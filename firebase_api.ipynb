{
 "cells": [
  {
   "attachments": {},
   "cell_type": "markdown",
   "metadata": {},
   "source": [
    "### Firebase User Creation"
   ]
  },
  {
   "cell_type": "code",
   "execution_count": null,
   "metadata": {},
   "outputs": [],
   "source": [
    "import pyrebase\n",
    "\n",
    "firebase_config = {\n",
    "  \"STORE AS REPOSITORY SECRET\"\n",
    "}\n",
    "\n",
    "firebase = pyrebase.initialize_app(firebase_config)\n",
    "\n",
    "auth = firebase.auth()\n",
    "\n",
    "email = input(\"please enter your email\")\n",
    "password = input(\"please enter your password\")\n",
    "\n",
    "user = auth.create_user_with_email_and_password(email, password)\n",
    "\n",
    "print(\"Success.\")"
   ]
  },
  {
   "attachments": {},
   "cell_type": "markdown",
   "metadata": {},
   "source": [
    "### User Sign In"
   ]
  },
  {
   "cell_type": "code",
   "execution_count": 13,
   "metadata": {},
   "outputs": [],
   "source": [
    "login = auth.sign_in_with_email_and_password(email, password)"
   ]
  },
  {
   "cell_type": "code",
   "execution_count": 14,
   "metadata": {},
   "outputs": [
    {
     "data": {
      "text/plain": [
       "{'kind': 'identitytoolkit#GetOobConfirmationCodeResponse',\n",
       " 'email': 'caiolauro@gmail.com'}"
      ]
     },
     "execution_count": 14,
     "metadata": {},
     "output_type": "execute_result"
    }
   ],
   "source": [
    "auth.send_email_verification(login[\"idToken\"])"
   ]
  },
  {
   "attachments": {},
   "cell_type": "markdown",
   "metadata": {},
   "source": [
    "### Instatiate Storage Object for Read/Write Operations"
   ]
  },
  {
   "cell_type": "code",
   "execution_count": 25,
   "metadata": {},
   "outputs": [
    {
     "data": {
      "text/plain": [
       "{'name': 'images/example.jpg',\n",
       " 'bucket': 'caio-preply.appspot.com',\n",
       " 'generation': '1675810195574028',\n",
       " 'metageneration': '1',\n",
       " 'contentType': 'image/jpeg',\n",
       " 'timeCreated': '2023-02-07T22:49:55.600Z',\n",
       " 'updated': '2023-02-07T22:49:55.600Z',\n",
       " 'storageClass': 'STANDARD',\n",
       " 'size': '62721',\n",
       " 'md5Hash': 'Q+DJbRw0ZQTbcs/VS5YlpQ==',\n",
       " 'contentEncoding': 'identity',\n",
       " 'contentDisposition': \"inline; filename*=utf-8''example.jpg\",\n",
       " 'crc32c': 'dtj7/Q==',\n",
       " 'etag': 'CIyarLu/hP0CEAE=',\n",
       " 'downloadTokens': 'fedad5ff-095b-45be-aa2f-ce3ebd0e88d6'}"
      ]
     },
     "execution_count": 25,
     "metadata": {},
     "output_type": "execute_result"
    }
   ],
   "source": [
    "storage = firebase.storage()\n",
    "storage.child(\"images/example.jpg\").put(\"profile.png\")"
   ]
  }
 ],
 "metadata": {
  "kernelspec": {
   "display_name": "Python 3",
   "language": "python",
   "name": "python3"
  },
  "language_info": {
   "codemirror_mode": {
    "name": "ipython",
    "version": 3
   },
   "file_extension": ".py",
   "mimetype": "text/x-python",
   "name": "python",
   "nbconvert_exporter": "python",
   "pygments_lexer": "ipython3",
   "version": "3.10.6"
  },
  "orig_nbformat": 4,
  "vscode": {
   "interpreter": {
    "hash": "916dbcbb3f70747c44a77c7bcd40155683ae19c65e1c03b4aa3499c5328201f1"
   }
  }
 },
 "nbformat": 4,
 "nbformat_minor": 2
}
