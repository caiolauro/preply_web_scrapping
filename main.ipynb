{
 "cells": [
  {
   "attachments": {},
   "cell_type": "markdown",
   "metadata": {},
   "source": [
    "# Preply Web Scrape"
   ]
  },
  {
   "attachments": {},
   "cell_type": "markdown",
   "metadata": {},
   "source": [
    "### Exploring the Web Site HTML"
   ]
  },
  {
   "cell_type": "code",
   "execution_count": 3,
   "metadata": {},
   "outputs": [
    {
     "name": "stdout",
     "output_type": "stream",
     "text": [
      "Start raw scrape\n"
     ]
    }
   ],
   "source": [
    "print(\"Start raw scrape\")"
   ]
  },
  {
   "cell_type": "code",
   "execution_count": 4,
   "metadata": {},
   "outputs": [],
   "source": [
    "############ DAILY REPORTS AUTOMATION ############\n",
    "from selenium.common.exceptions import ElementClickInterceptedException\n",
    "from selenium import webdriver\n",
    "from selenium.common.exceptions import NoSuchElementException\n",
    "from selenium.webdriver.common.keys import Keys\n",
    "from selenium.webdriver.support.ui import WebDriverWait\n",
    "from selenium.webdriver.support import expected_conditions as EC \n",
    "from selenium.webdriver.common.by import By\n",
    "from time import sleep"
   ]
  },
  {
   "cell_type": "code",
   "execution_count": 7,
   "metadata": {},
   "outputs": [],
   "source": [
    "import os\n",
    "# Chrome Driver Parameters Setup\n",
    "options = webdriver.ChromeOptions()\n",
    "options.add_argument(\"--start-maximized\")\n",
    "chrome_driver_path=\"C:\\Program Files\\Google\\Chrome\\Application\\chromedriver.exe\"\n",
    "# Initialize Chrome Driver\n",
    "driver = webdriver.Chrome(options=options)\n",
    "driver.get(\"https://preply.com/en/online/english-tutors\")"
   ]
  },
  {
   "cell_type": "code",
   "execution_count": null,
   "metadata": {},
   "outputs": [],
   "source": [
    "profiles=driver.find_element(By.CSS_SELECTOR, \"#__next > div.styles_PageWrap__lIYEc > main > div.styles_ResultsWrapper__kAXts > div.styles_MainContentWrapper__h3r02 > ul > li:nth-child(3)\")\n",
    "profiles.screenshot(\"output.png\")\n",
    "img=driver.find_element(By.CSS_SELECTOR,  \"#__next > div.styles_PageWrap__lIYEc > main > div.styles_ResultsWrapper__kAXts > div.styles_MainContentWrapper__h3r02 > ul > li:nth-child(3) > section > div > div.styles_SearchCardAvatarWrapper__u_zNw > div > a > picture > img\")"
   ]
  },
  {
   "cell_type": "code",
   "execution_count": 38,
   "metadata": {},
   "outputs": [],
   "source": [
    "### Selecting Currency \n",
    "from selenium.webdriver.support.ui import Select\n",
    "curr_utton = \"#__next > section > div._15uGWh._3rnoor.X4eHUe._1o4EVj.hUFwKI._1-5zEl._2x1aeM._1WH1_Q._2JlASK.GWHMDM._1kf68Q._3nnn2i > div.styles_HeaderDropdownWrapper__uIOg5 > button\"\n",
    "\n",
    "\n",
    "def refresh_currency():\n",
    "    driver.find_element(By.CSS_SELECTOR,curr_utton).click()\n",
    "    select = Select(driver.find_element(By.NAME, 'currency'))\n",
    "    sleep(1)\n",
    "    select.select_by_visible_text(\"USD\")\n",
    "    driver.find_element(By.CSS_SELECTOR,curr_utton).click()\n",
    "    sleep(1)\n",
    "    driver.find_element(By.CSS_SELECTOR,curr_utton).click()\n",
    "    sleep(2)\n",
    "    select = Select(driver.find_element(By.NAME, 'currency'))\n",
    "    select.select_by_visible_text(\"EUR\")\n",
    "    \n",
    "try:\n",
    "    refresh_currency()\n",
    "except:\n",
    "    print(\"Could not refresh currency, try again.\")"
   ]
  },
  {
   "cell_type": "code",
   "execution_count": 43,
   "metadata": {},
   "outputs": [
    {
     "data": {
      "text/plain": [
       "['Super tutor',\n",
       " 'Gordon G.',\n",
       " 'English',\n",
       " '5',\n",
       " '18',\n",
       " 'reviews',\n",
       " '360',\n",
       " 'MXN',\n",
       " 'per hour',\n",
       " '18 active students',\n",
       " '•',\n",
       " '1,082 lessons',\n",
       " 'Speaks:',\n",
       " 'EnglishNative PortugueseUpper-Intermediate+1',\n",
       " 'Portuguese/Spanish speaker, focus on English speaking *** NEW TIMETABLE NOVEMBER 9TH 2022 - ACCEPTING NEW STUDENTS!! ***',\n",
       " \"Hello, my name is Gordon and I'm from Ireland. I have 43 years. No wait, I don't have 43 years! I am 43 years old.\",\n",
       " 'I have taught over 3000 hours of English classes to people that speak Portuguese since 2014.',\n",
       " 'Read more',\n",
       " 'Book trial lesson',\n",
       " 'Message']"
      ]
     },
     "execution_count": 43,
     "metadata": {},
     "output_type": "execute_result"
    }
   ],
   "source": [
    "profile_template = \"#__next > div.styles_PageWrap__lIYEc > main > div.styles_ResultsWrapper__kAXts > div.styles_MainContentWrapper__h3r02 > ul > li:nth-child({0})\"\n",
    "{\"Name\":\"\",\"teacher_of\":\"\"}\n",
    "profile = driver.find_element(By.CSS_SELECTOR,\"#__next > div.styles_PageWrap__lIYEc > main > div.styles_ResultsWrapper__kAXts > div.styles_MainContentWrapper__h3r02 > ul > li:nth-child(3)\")\n",
    "\n",
    "\n",
    "def create_json_profile(text):\n",
    "    \n",
    "    return text.split(\"\\n\")\n",
    "create_json_profile(profile.text)\n"
   ]
  },
  {
   "cell_type": "code",
   "execution_count": 29,
   "metadata": {},
   "outputs": [
    {
     "data": {
      "text/plain": [
       "'1217'"
      ]
     },
     "execution_count": 29,
     "metadata": {},
     "output_type": "execute_result"
    }
   ],
   "source": [
    "profile_template = \"#__next > div.styles_PageWrap__lIYEc > main > div.styles_ResultsWrapper__kAXts > div.styles_MainContentWrapper__h3r02 > ul > li:nth-child({0})\"\n",
    "\n",
    "\n",
    "n_of_pages=driver.find_element(By.CSS_SELECTOR,  \"#__next > div.styles_PageWrap__lIYEc > main > div.styles_ResultsWrapper__kAXts > div.styles_MainContentWrapper__h3r02 > div > div > ul > li:nth-child(5) > a\").text\n",
    "\n",
    "for index_page in range(0,n_of_pages):\n",
    "    driver.find_element(By.CSS_SELECTOR,profile_template)\n"
   ]
  }
 ],
 "metadata": {
  "kernelspec": {
   "display_name": "Python 3",
   "language": "python",
   "name": "python3"
  },
  "language_info": {
   "codemirror_mode": {
    "name": "ipython",
    "version": 3
   },
   "file_extension": ".py",
   "mimetype": "text/x-python",
   "name": "python",
   "nbconvert_exporter": "python",
   "pygments_lexer": "ipython3",
   "version": "3.10.9"
  },
  "orig_nbformat": 4,
  "vscode": {
   "interpreter": {
    "hash": "ad34bc9151f925664137131e0fda526755d0ec9b9989259c587c9cc933ba5125"
   }
  }
 },
 "nbformat": 4,
 "nbformat_minor": 2
}
