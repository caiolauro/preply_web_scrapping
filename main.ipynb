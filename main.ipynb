{
 "cells": [
  {
   "attachments": {},
   "cell_type": "markdown",
   "metadata": {},
   "source": [
    "# **Preply Web Scrape and Upload to Firebase**"
   ]
  },
  {
   "attachments": {},
   "cell_type": "markdown",
   "metadata": {},
   "source": [
    "### Task Description\n",
    "<p>I need to write a python script which will scrape records from a website (each record has about ten text fields and two images which need to be downloaded to a local folder) and save all the text information to a pandas data frame along with the image file names. Each record on the website has a unique id in the url string which can be used as the index/primary key. I think using Selenium with ChromeDriver will be the easiest way to do this because I will have to login through the browser window and navigate to the main page and pick some options before starting the scraping loop.\n",
    "\n",
    "The second part of the project will be to push the scraped information and images to my firebase project. Since each record has a unique identifier it should be pretty straight forward to use that as the primary key to save the text to firestore. Also the images will need to be uploaded to firebase storage and links to the images saved as a field in firestore for each record.</p>"
   ]
  },
  {
   "cell_type": "code",
   "execution_count": 15,
   "metadata": {},
   "outputs": [],
   "source": [
    "from selenium.common.exceptions import ElementClickInterceptedException\n",
    "from selenium import webdriver\n",
    "from selenium.common.exceptions import NoSuchElementException\n",
    "from selenium.webdriver.common.keys import Keys\n",
    "from selenium.webdriver.support.ui import WebDriverWait\n",
    "from selenium.webdriver.support import expected_conditions as EC \n",
    "from selenium.webdriver.common.by import By\n",
    "from time import sleep\n",
    "from bs4 import BeautifulSoup"
   ]
  },
  {
   "cell_type": "code",
   "execution_count": 78,
   "metadata": {},
   "outputs": [],
   "source": [
    "CURRENCY_BUTTON = \"#__next > section > div._15uGWh._3rnoor.X4eHUe._1o4EVj.hUFwKI._1-5zEl._2x1aeM._1WH1_Q._2JlASK.GWHMDM._1kf68Q._3nnn2i > div.styles_HeaderDropdownWrapper__uIOg5 > button\"\n",
    "URL = \"https://preply.com/en/online/english-tutors?page={0}\"\n",
    "n_of_pages_selector = \"#__next > div.styles_PageWrap__lIYEc > main > div.styles_ResultsWrapper__kAXts > div.styles_MainContentWrapper__h3r02 > div > div > ul > li:nth-child(5) > a\"\n",
    "class Selectors:\n",
    "    tutor = \"#__next > div.styles_PageWrap__lIYEc > main > div.styles_ResultsWrapper__kAXts > div.styles_MainContentWrapper__h3r02 > ul > li:nth-child({0})\"\n",
    "    tutor_basic_info = \"#__next > div.styles_PageWrap__lIYEc > main > div.styles_ResultsWrapper__kAXts > div.styles_MainContentWrapper__h3r02 > ul > li:nth-child({0}) > section > div > div:nth-child(2) > div.styles_SearchCardHeading__fL9u3\"\n",
    "    lessons_and_students = \"#__next > div.styles_PageWrap__lIYEc > main > div.styles_ResultsWrapper__kAXts > div.styles_MainContentWrapper__h3r02 > ul > li:nth-child({0}) > section > div > div:nth-child(3) > div.styles_InfoWrap__CBt_k > div._15uGWh._3rnoor.X4eHUe._1o4EVj.qh7on_._22lwVW._2x1aeM._1WH1_Q._2JlASK.GWHMDM\"\n",
    "    tutor_languages = \"#__next > div.styles_PageWrap__lIYEc > main > div.styles_ResultsWrapper__kAXts > div.styles_MainContentWrapper__h3r02 > ul > li:nth-child({0}) > section > div > div:nth-child(3) > div.styles_InfoWrap__CBt_k > div.styles_SpeaksWrapper__ssRz1\"\n",
    "    tutor_languages_more = \"#__next > div.styles_PageWrap__lIYEc > main > div.styles_ResultsWrapper__kAXts > div.styles_MainContentWrapper__h3r02 > ul > li:nth-child({0}) > section > div > div:nth-child(3) > div.styles_InfoWrap__CBt_k > div.styles_SpeaksWrapper__ssRz1 > ul > span.styles_MoreSubjects__eJRX9\"\n",
    "    tutor_description = \"#__next > div.styles_PageWrap__lIYEc > main > div.styles_ResultsWrapper__kAXts > div.styles_MainContentWrapper__h3r02 > ul > li:nth-child({0}) > section > div > div:nth-child(3) > div.styles_InfoWrap__CBt_k > div.styles_TutorDescriptionBlock__Th9E_ > div > div\"\n",
    "    tutor_description_more = \"#__next > div.styles_PageWrap__lIYEc > main > div.styles_ResultsWrapper__kAXts > div.styles_MainContentWrapper__h3r02 > ul > li:nth-child({0}) > section > div > div:nth-child(3) > div.styles_InfoWrap__CBt_k > div.styles_TutorDescriptionBlock__Th9E_ > div > span > span\""
   ]
  },
  {
   "cell_type": "code",
   "execution_count": 27,
   "metadata": {},
   "outputs": [
    {
     "name": "stdout",
     "output_type": "stream",
     "text": [
      "Driver successfully initialized.\n"
     ]
    }
   ],
   "source": [
    "# Initialize Chrome Driver\n",
    "options = webdriver.ChromeOptions()\n",
    "options.add_argument(\"--start-maximized\")\n",
    "options.add_argument(\"disable-infobars\")\n",
    "chrome_driver_path=\"C:\\Program Files\\Google\\Chrome\\Application\\chromedriver.exe\"\n",
    "driver = webdriver.Chrome(options=options)\n",
    "driver.get(URL.format(1))\n",
    "sleep(2)\n",
    "print(\"Driver successfully initialized.\")"
   ]
  },
  {
   "cell_type": "code",
   "execution_count": 28,
   "metadata": {},
   "outputs": [
    {
     "name": "stdout",
     "output_type": "stream",
     "text": [
      "Currency successfully refreshed.\n"
     ]
    }
   ],
   "source": [
    "### Selecting Currency \n",
    "from selenium.webdriver.support.ui import Select\n",
    "\n",
    "def refresh_currency():\n",
    "    driver.find_element(By.CSS_SELECTOR,CURRENCY_BUTTON).click()\n",
    "    select = Select(driver.find_element(By.NAME, 'currency'))\n",
    "    sleep(1)\n",
    "    select.select_by_visible_text(\"EUR\")\n",
    "    sleep(1)\n",
    "    driver.find_element(By.CSS_SELECTOR,CURRENCY_BUTTON).click()\n",
    "    select = Select(driver.find_element(By.NAME, 'currency'))\n",
    "    select.select_by_visible_text(\"USD\")\n",
    "\n",
    "try:\n",
    "    refresh_currency()\n",
    "    print(\"Currency successfully refreshed.\")\n",
    "except Exception as e:\n",
    "    print(f\"Could not refresh currency, try again. {e}\")"
   ]
  },
  {
   "cell_type": "code",
   "execution_count": 38,
   "metadata": {},
   "outputs": [],
   "source": [
    "n_of_pages = driver.find_element(By.CSS_SELECTOR, n_of_pages_selector).text"
   ]
  },
  {
   "cell_type": "code",
   "execution_count": 79,
   "metadata": {},
   "outputs": [
    {
     "data": {
      "text/plain": [
       "'Brianna C.\\nEnglish'"
      ]
     },
     "execution_count": 79,
     "metadata": {},
     "output_type": "execute_result"
    }
   ],
   "source": [
    "## Validating Collected Selectors\n",
    "full_list = driver.find_element(By.CSS_SELECTOR, \"#__next > div.styles_PageWrap__lIYEc > main > div.styles_ResultsWrapper__kAXts\")\n",
    "tutor_basic_info = driver.find_element(By.CSS_SELECTOR,Selectors.tutor_basic_info.format(1))\n",
    "lessons_and_students = driver.find_element(By.CSS_SELECTOR,Selectors.lessons_and_students.format(1))\n",
    "languages = driver.find_element(By.CSS_SELECTOR,Selectors.tutor_languages.format(1))\n",
    "description = driver.find_element(By.CSS_SELECTOR,Selectors.tutor_description.format(1))\n",
    "def open_all_hidden_fields(n_of_tutors):\n",
    "    for tutor_index in range(1, n_of_tutors+1):\n",
    "        try:\n",
    "            driver.find_element(By.CSS_SELECTOR,Selectors.tutor_description_more.format(tutor_index)).click()\n",
    "            sleep(0.5)\n",
    "        except:\n",
    "            print(\"Description is already fully visible - Nothing to click.\")\n",
    "        try:\n",
    "            driver.find_element(By.CSS_SELECTOR,Selectors.tutor_languages_more.format(tutor_index)).click()\n",
    "            sleep(0.5)\n",
    "        except:\n",
    "            print(\"No additional Languages - Nothing to click.\")\n",
    "tutor_basic_info.text"
   ]
  },
  {
   "cell_type": "code",
   "execution_count": 64,
   "metadata": {},
   "outputs": [
    {
     "data": {
      "text/plain": [
       "'Speaks:\\nEnglishNative Chinese (Mandarin)Beginner SpanishUpper-Intermediate'"
      ]
     },
     "execution_count": 64,
     "metadata": {},
     "output_type": "execute_result"
    }
   ],
   "source": [
    "speaks.text"
   ]
  }
 ],
 "metadata": {
  "kernelspec": {
   "display_name": "Python 3",
   "language": "python",
   "name": "python3"
  },
  "language_info": {
   "codemirror_mode": {
    "name": "ipython",
    "version": 3
   },
   "file_extension": ".py",
   "mimetype": "text/x-python",
   "name": "python",
   "nbconvert_exporter": "python",
   "pygments_lexer": "ipython3",
   "version": "3.10.9"
  },
  "orig_nbformat": 4,
  "vscode": {
   "interpreter": {
    "hash": "ad34bc9151f925664137131e0fda526755d0ec9b9989259c587c9cc933ba5125"
   }
  }
 },
 "nbformat": 4,
 "nbformat_minor": 2
}
