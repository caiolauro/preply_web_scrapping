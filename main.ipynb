{
 "cells": [
  {
   "attachments": {},
   "cell_type": "markdown",
   "metadata": {},
   "source": [
    "# **Preply Web Scrape and Upload to Firebase**"
   ]
  },
  {
   "attachments": {},
   "cell_type": "markdown",
   "metadata": {},
   "source": [
    "### Task Description\n",
    "<p>I need to write a python script which will scrape records from a website (each record has about ten text fields and two images which need to be downloaded to a local folder) and save all the text information to a pandas data frame along with the image file names. Each record on the website has a unique id in the url string which can be used as the index/primary key. I think using Selenium with ChromeDriver will be the easiest way to do this because I will have to login through the browser window and navigate to the main page and pick some options before starting the scraping loop.\n",
    "\n",
    "The second part of the project will be to push the scraped information and images to my firebase project. Since each record has a unique identifier it should be pretty straight forward to use that as the primary key to save the text to firestore. Also the images will need to be uploaded to firebase storage and links to the images saved as a field in firestore for each record.</p>"
   ]
  },
  {
   "cell_type": "code",
   "execution_count": 21,
   "metadata": {},
   "outputs": [],
   "source": [
    "from selenium.common.exceptions import ElementClickInterceptedException\n",
    "from selenium import webdriver\n",
    "from selenium.common.exceptions import NoSuchElementException\n",
    "from selenium.webdriver.common.keys import Keys\n",
    "from selenium.webdriver.support.ui import WebDriverWait\n",
    "from selenium.webdriver.support import expected_conditions as EC \n",
    "from selenium.webdriver.common.by import By\n",
    "from time import sleep\n",
    "from bs4 import BeautifulSoup\n",
    "import re"
   ]
  },
  {
   "cell_type": "code",
   "execution_count": 84,
   "metadata": {},
   "outputs": [],
   "source": [
    "CURRENCY_BUTTON = \"#__next > section > div._15uGWh._3rnoor.X4eHUe._1o4EVj.hUFwKI._1-5zEl._2x1aeM._1WH1_Q._2JlASK.GWHMDM._1kf68Q._3nnn2i > div.styles_HeaderDropdownWrapper__uIOg5 > button\"\n",
    "URL = \"https://preply.com/en/online/english-tutors?page={0}\"\n",
    "n_of_pages_selector = \"#__next > div.styles_PageWrap__lIYEc > main > div.styles_ResultsWrapper__kAXts > div.styles_MainContentWrapper__h3r02 > div > div > ul > li:nth-child(5) > a\"\n",
    "def safe_execute(error_message, exception, function, *args):\n",
    "    try:\n",
    "        return function(*args)\n",
    "    except exception as e:\n",
    "        print(e)\n",
    "        return error_message\n",
    "to_int = lambda raw_string: int(''.join(re.findall(r'\\d+', raw_string)))\n",
    "\n",
    "class Selectors:\n",
    "    #__next > div.styles_PageWrap__lIYEc > main > div.styles_ResultsWrapper__kAXts > div.styles_MainContentWrapper__h3r02 > ul > div:nth-child(15) > aside > div > div:nth-child(3)\n",
    "    #__next > div.styles_PageWrap__lIYEc > main > div.styles_ResultsWrapper__kAXts > div.styles_MainContentWrapper__h3r02 > ul > div:nth-child(15) > aside > div > div:nth-child(3)\n",
    "    tutor = \"#__next > div.styles_PageWrap__lIYEc > main > div.styles_ResultsWrapper__kAXts > div.styles_MainContentWrapper__h3r02 > ul > li:nth-child({0})\"\n",
    "    tutor_basic_info = \"#__next > div.styles_PageWrap__lIYEc > main > div.styles_ResultsWrapper__kAXts > div.styles_MainContentWrapper__h3r02 > ul > li:nth-child({0}) > section > div > div:nth-child(2) > div.styles_SearchCardHeading__fL9u3\"\n",
    "    tutor_country = \"#__next > div.styles_PageWrap__lIYEc > main > div.styles_ResultsWrapper__kAXts > div.styles_MainContentWrapper__h3r02 > ul > li:nth-child({0}) > section > div > div:nth-child(2) > div.styles_SearchCardHeading__fL9u3 > span > img\"\n",
    "    is_newly_joined = \"#__next > div.styles_PageWrap__lIYEc > main > div.styles_ResultsWrapper__kAXts > div.styles_MainContentWrapper__h3r02 > ul > li:nth-child({0}) > section > div > div:nth-child(2) > div.styles_CoreIndicatorsBlockWrapper__JrZw6 > div > div > div:nth-child(1) > div > span\"\n",
    "    tutor_rating = \"#__next > div.styles_PageWrap__lIYEc > main > div.styles_ResultsWrapper__kAXts > div.styles_MainContentWrapper__h3r02 > ul > li:nth-child({0}) > section > div > div:nth-child(2) > div.styles_CoreIndicatorsBlockWrapper__JrZw6 > div > div > div:nth-child(1) > div\"\n",
    "    thumbnail_img = \"#__next > div.styles_PageWrap__lIYEc > main > div.styles_ResultsWrapper__kAXts > div.styles_MainContentWrapper__h3r02 > ul > li:nth-child({0}) > section > div > div.styles_SearchCardAvatarWrapper__u_zNw > div > a > picture > img\"\n",
    "    price = \"#__next > div.styles_PageWrap__lIYEc > main > div.styles_ResultsWrapper__kAXts > div.styles_MainContentWrapper__h3r02 > ul > li:nth-child({0}) > section > div > div:nth-child(2) > div.styles_CoreIndicatorsBlockWrapper__JrZw6 > div > div > div:nth-child(2) > div > div.styles_PriceIndicatorPrice__vz9WR > div.styles_PriceIndicatorValue__ndpfb.styles_PriceIndicatorValueSecond__Py5XD\"\n",
    "    lesson_duration = \"#__next > div.styles_PageWrap__lIYEc > main > div.styles_ResultsWrapper__kAXts > div.styles_MainContentWrapper__h3r02 > ul > li:nth-child({0}) > section > div > div:nth-child(2) > div.styles_CoreIndicatorsBlockWrapper__JrZw6 > div > div > div:nth-child(2) > div > div.styles_PriceIndicatorDuration__GKnmh\"\n",
    "    lessons_and_students = \"#__next > div.styles_PageWrap__lIYEc > main > div.styles_ResultsWrapper__kAXts > div.styles_MainContentWrapper__h3r02 > ul > li:nth-child({0}) > section > div > div:nth-child(3) > div.styles_InfoWrap__CBt_k > div._15uGWh._3rnoor.X4eHUe._1o4EVj.qh7on_._22lwVW._2x1aeM._1WH1_Q._2JlASK.GWHMDM\"\n",
    "    tutor_languages = \"#__next > div.styles_PageWrap__lIYEc > main > div.styles_ResultsWrapper__kAXts > div.styles_MainContentWrapper__h3r02 > ul > li:nth-child({0}) > section > div > div:nth-child(3) > div.styles_InfoWrap__CBt_k > div.styles_SpeaksWrapper__ssRz1\"\n",
    "    tutor_languages_more = \"#__next > div.styles_PageWrap__lIYEc > main > div.styles_ResultsWrapper__kAXts > div.styles_MainContentWrapper__h3r02 > ul > li:nth-child({0}) > section > div > div:nth-child(3) > div.styles_InfoWrap__CBt_k > div.styles_SpeaksWrapper__ssRz1 > ul > span.styles_MoreSubjects__eJRX9\"\n",
    "    tutor_description = \"#__next > div.styles_PageWrap__lIYEc > main > div.styles_ResultsWrapper__kAXts > div.styles_MainContentWrapper__h3r02 > ul > li:nth-child({0}) > section > div > div:nth-child(3) > div.styles_InfoWrap__CBt_k > div.styles_TutorDescriptionBlock__Th9E_ > div > div\"\n",
    "    tutor_description_more = \"#__next > div.styles_PageWrap__lIYEc > main > div.styles_ResultsWrapper__kAXts > div.styles_MainContentWrapper__h3r02 > ul > li:nth-child({0}) > section > div > div:nth-child(3) > div.styles_InfoWrap__CBt_k > div.styles_TutorDescriptionBlock__Th9E_ > div > span > span\""
   ]
  },
  {
   "cell_type": "code",
   "execution_count": 3,
   "metadata": {},
   "outputs": [
    {
     "name": "stdout",
     "output_type": "stream",
     "text": [
      "Driver successfully initialized.\n"
     ]
    }
   ],
   "source": [
    "# Initialize Chrome Driver\n",
    "options = webdriver.ChromeOptions()\n",
    "options.add_argument(\"--start-maximized\")\n",
    "options.add_argument(\"disable-infobars\")\n",
    "chrome_driver_path=\"C:\\Program Files\\Google\\Chrome\\Application\\chromedriver.exe\"\n",
    "driver = webdriver.Chrome(options=options)\n",
    "driver.get(URL.format(1))\n",
    "sleep(2)\n",
    "print(\"Driver successfully initialized.\")"
   ]
  },
  {
   "cell_type": "code",
   "execution_count": 4,
   "metadata": {},
   "outputs": [
    {
     "name": "stdout",
     "output_type": "stream",
     "text": [
      "Currency successfully refreshed.\n"
     ]
    }
   ],
   "source": [
    "### Selecting Currency \n",
    "from selenium.webdriver.support.ui import Select\n",
    "\n",
    "def refresh_currency():\n",
    "    driver.find_element(By.CSS_SELECTOR,CURRENCY_BUTTON).click()\n",
    "    select = Select(driver.find_element(By.NAME, 'currency'))\n",
    "    sleep(1)\n",
    "    select.select_by_visible_text(\"EUR\")\n",
    "    sleep(1)\n",
    "    driver.find_element(By.CSS_SELECTOR,CURRENCY_BUTTON).click()\n",
    "    select = Select(driver.find_element(By.NAME, 'currency'))\n",
    "    select.select_by_visible_text(\"USD\")\n",
    "\n",
    "try:\n",
    "    refresh_currency()\n",
    "    print(\"Currency successfully refreshed.\")\n",
    "except Exception as e:\n",
    "    print(f\"Could not refresh currency, try again. {e}\")"
   ]
  },
  {
   "cell_type": "code",
   "execution_count": 5,
   "metadata": {},
   "outputs": [],
   "source": [
    "n_of_pages = driver.find_element(By.CSS_SELECTOR, n_of_pages_selector).text"
   ]
  },
  {
   "cell_type": "code",
   "execution_count": 96,
   "metadata": {},
   "outputs": [
    {
     "name": "stdout",
     "output_type": "stream",
     "text": [
      "Description is already fully visible - Nothing to click.\n",
      "No additional Languages - Nothing to click.\n",
      "No Students yet.\n",
      "{'tutor_name': 'Brianna C.', 'tutor_teaches': 'English', 'thumbnail_img': 'https://avatars.preply.com/i/logos/i/logos/avatar_mm6njhw04lb.jpg?d=160x160&f=jpeg', 'tutor_country': 'United States of America', 'price': '30', 'lesson_duration': '50-min lesson', 'is_newly_joined': False, 'rating': 'Newly joined', 'n_of_reviews': 18, 'lessons': 2, 'students': 1082, 'languages': 'Speaks:\\nEnglishNative Chinese (Mandarin)Beginner SpanishUpper-Intermediate', 'description': \"Licensed English teacher with 7 years of experience with both kids and adults Hello, my name is Teacher Bri and I am from the USA. I enjoy traveling and learning new languages, so I can't wait to help you learn English!\\nSome other things I enjoy are reading, cooking, yoga, and learning about new cultures. Do we have any of the same interests?\"}\n"
     ]
    }
   ],
   "source": [
    "previous_tutor_name = None\n",
    "for tutor_index in range(1,6):\n",
    "    ## Validating Collected Selectors\n",
    "    try:\n",
    "        if previous_tutor_name != tutor_name:\n",
    "            pass\n",
    "        elif  previous_tutor_name == tutor_name:\n",
    "            continue\n",
    "        tutor_basic_info = driver.find_element(By.CSS_SELECTOR,Selectors.tutor_basic_info.format(tutor_index))\n",
    "        tutor_name = tutor_basic_info.text.split('\\n')[0]\n",
    "        previous_tutor_name = tutor_name\n",
    "        tutor_teaches = tutor_basic_info.text.split('\\n')[1]\n",
    "    except NoSuchElementException:\n",
    "        pass\n",
    "    try:\n",
    "        driver.find_element(By.CSS_SELECTOR,Selectors.tutor_description_more.format(tutor_index)).click()\n",
    "        sleep(0.5)\n",
    "    except:\n",
    "        print(\"Description is already fully visible - Nothing to click.\")\n",
    "\n",
    "    try:\n",
    "        driver.find_element(By.CSS_SELECTOR,Selectors.tutor_languages_more.format(tutor_index)).click()\n",
    "        sleep(0.5)\n",
    "    except:\n",
    "        print(\"No additional Languages - Nothing to click.\")\n",
    "\n",
    "\n",
    "    try:\n",
    "        price = driver.find_element(By.CSS_SELECTOR,Selectors.price.format(tutor_index)).text\n",
    "    except NoSuchElementException:\n",
    "        pass\n",
    "\n",
    "    try:\n",
    "        lesson_duration = driver.find_element(By.CSS_SELECTOR,Selectors.lesson_duration.format(tutor_index)).text\n",
    "    except NoSuchElementException:\n",
    "        pass\n",
    "\n",
    "    try:\n",
    "        is_newly_joined = driver.find_element(By.CSS_SELECTOR,Selectors.is_newly_joined.format(14)).text\n",
    "        is_newly_joined = True\n",
    "    except NoSuchElementException:\n",
    "        is_newly_joined = False\n",
    "\n",
    "    try:\n",
    "        tutor_rating = driver.find_element(By.CSS_SELECTOR,Selectors.tutor_rating.format(tutor_index)).text\n",
    "        rating = tutor_rating.split('\\n')[0]\n",
    "        try:\n",
    "            n_of_reviews = to_int(tutor_rating.split('\\n')[1])\n",
    "        except:\n",
    "            message = \"Not rated yet\"\n",
    "    except NoSuchElementException:\n",
    "        message = \"Not rated yet\"\n",
    "\n",
    "    try:\n",
    "        thumbnail_img = driver.find_element(By.CSS_SELECTOR,Selectors.thumbnail_img.format(tutor_index)).get_attribute('src')\n",
    "    except NoSuchElementException:\n",
    "        pass\n",
    "\n",
    "    try:\n",
    "        tutor_country =  driver.find_element(By.CSS_SELECTOR,Selectors.tutor_country.format(tutor_index)).get_attribute('alt')\n",
    "    except NoSuchElementException:\n",
    "        pass\n",
    "\n",
    "    try:\n",
    "        lessons_and_students = driver.find_element(By.CSS_SELECTOR,Selectors.lessons_and_students.format(tutor_index)).text\n",
    "        lessons = to_int(lessons_and_students.split(\"•\")[0])\n",
    "        try:\n",
    "            students = to_int(lessons_and_students.split(\"•\")[1])\n",
    "        except:\n",
    "            print(\"No Students yet.\")\n",
    "    except NoSuchElementException:\n",
    "        pass\n",
    "\n",
    "    try:\n",
    "        languages = driver.find_element(By.CSS_SELECTOR,Selectors.tutor_languages.format(tutor_index)).text\n",
    "    except NoSuchElementException:\n",
    "        pass\n",
    "\n",
    "    try:\n",
    "        description = driver.find_element(By.CSS_SELECTOR,Selectors.tutor_description.format(tutor_index)).text\n",
    "    except NoSuchElementException:\n",
    "        pass\n",
    "    print(\n",
    "    { \n",
    "    \"tutor_name\":tutor_name\n",
    "    ,\"tutor_teaches\":tutor_teaches\n",
    "    ,\"thumbnail_img\":thumbnail_img\n",
    "    ,\"tutor_country\":tutor_country\n",
    "    ,\"price\":price\n",
    "    ,\"lesson_duration\":lesson_duration\n",
    "    ,\"is_newly_joined\":is_newly_joined\n",
    "    ,\"rating\":rating\n",
    "    ,\"n_of_reviews\":n_of_reviews\n",
    "    ,\"lessons\":lessons\n",
    "    ,\"students\":students\n",
    "    ,\"languages\":languages\n",
    "    ,\"description\":description}\n",
    "    )"
   ]
  },
  {
   "cell_type": "code",
   "execution_count": 61,
   "metadata": {},
   "outputs": [
    {
     "data": {
      "text/plain": [
       "['Times are shown in your local timezone\\nMon\\nTue\\nWed\\nThu\\nFri\\nSat\\nSun\\nMorning\\n06:00—12:00\\nAfternoon\\n12:00—18:00\\nEvening\\n18:00—24:00\\nNight\\n00:00—06:00\\nView full schedule\\nBrianna C.\\nEnglish\\nNewly joined\\n$\\n30\\n50-min lesson\\n2 active students\\n',\n",
       " \"\\nEnglishNative Chinese (Mandarin)Beginner+1\\nLicensed English teacher with 7 years of experience with both kids and adults Hello, my name is Teacher Bri and I am from the USA. I enjoy traveling and learning new languages, so I can't wait to help you learn English!\\nSome other things I enjoy are reading, cooking, yoga, and learning about new cultures. Do we have any of the same interests?\\n\\nRead more\\nBook trial lesson\\nMessage\\nSiriporn K.\\nEnglish\\nNewly joined\\n$\\n13\\n50-min lesson\\n2 active students\\n\",\n",
       " '\\nEnglishProficient ThaiNative\\nAn English teacher with 15 years of experience I am half Hainanese and half Thai. I was born and raised in Bangkok, Thailand. I enjoy watching English football. I support Manchester United. I love traveling, going to concerts, hanging out with friends, and spending time with my family.\\nI started teaching English after I graduated from Assumption University.\\nRead more\\nBook trial lesson\\nMessage\\nTomasz Ż.\\nEnglish\\nNewly joined\\n$\\n15\\n50-min lesson\\n2 active students\\n',\n",
       " \"\\nEnglishProficient PolishNative+2\\nCertified teacher with 5 years of experience Hello! Are you looking for an English teacher to improve your language skills? Do you still feel some kind of a language barrier while you speak? Let's get through it together!\\nI've been an English teacher for more than 5 years. I run both online and face-to-face classes with various age groups.\\n\\nRead more\\nBook trial lesson\\nMessage\\nGroup classes\\nJoin group classes starting tomorrow\\nPractice your English and socialize in active group classes\\nBrowse all\\nB2\\nJust Speak!\\nWith Joel Edward Ian W.\\n4.98 · 2,811 classes taught\\nMon, 11:00 – 11:55\\nC\\nE\\n...\\nFrom\\n$9.00\\u2009/\\u2009class\\nB1-B2\\nLet's Chit-Chat\\nWith Nokuphila N.\\n5 · 521 classes taught\\nMon, 07:00 – 08:00\\n...\\nFrom\\n$5.00\\u2009/\\u2009class\\nA2\\nEnglish Conversation for Daily Communication\\nWith Meisam K.\\n4.96 · 8,206 classes taught\\nMon, 06:00 – 07:00\\nN\\nFrom\\n$5.00\\u2009/\\u2009class\\nB1\\nImprove your English for work purposes\\nWith Teddy A.\\n4.97 · 1,364 classes taught\\nMon, 01:00 – 01:55\\nFrom\\n$5.00\\u2009/\\u2009class\\nB2-C1\\nJust Vocabulary!\\nWith Joel Edward Ian W.\\n4.98 · 2,811 classes taught\\nMon, 08:30 – 09:25\\nS\\n...\\nFrom\\n$9.00\\u2009/\\u2009class\\nB2-C1\\nEveryday English: Work, Job Interviews, Experience\\nWith Joel Edward Ian W.\\n4.98 · 2,811 classes taught\\nMon, 10:00 – 10:55\\nB\\n...\\nFrom\\n$9.00\\u2009/\\u2009class\\nB2\\nImprove your English for work purposes\\nWith Teddy A.\\n4.97 · 1,364 classes taught\\nMon, 04:00 – 04:55\\nK\\n...\\nFrom\\n$5.00\\u2009/\\u2009class\\nB1-B2\\nShort Pronunciation Practice\\nWith Jennifer D.\\n5 · 2,367 classes taught\\nMon, 03:00 – 03:30\\nFrom\\n$5.00\\u2009/\\u2009class\\nBrowse all group classes\\nSee more\\nCarlo S.\\nEnglish\\nNewly joined\\n$\\n20\\n50-min lesson\\n1 active student\\n•\\n2 lessons\\n\",\n",
       " \"\\nEnglishNative\\nBusiness Leader Who Can Teach Business Communication I'm a business leader who loves teaching people how to improve their personal and professional skills. I love to inspire people to unlock their true potential and use business communications to make themselves more confident.\\nI like to bring a different approach to teaching English.\\nRead more\\nBook trial lesson\\nMessage\\nDave N.\\nEnglish\\nNewly joined\\n$\\n15\\n50-min lesson\\n2 active students\\n\",\n",
       " '\\nEnglishNative RussianUpper-Intermediate\\nEnglish Speaking Trainer with 10 years experience Hello! My name is David, I come from Cambridgeshire in the UK. I’ve been an English teacher for 10 years, with experience working in Russia and Spain. I have experience with all ages and all levels, preparing for IELTS and CAE exams, I’ve also developed my own course of English.\\nRead more\\nBook trial lesson\\nMessage\\nShannon F.\\nEnglish\\nNewly joined\\n$\\n9\\n50-min lesson\\n2 active students\\n',\n",
       " '\\nEnglishNative\\nEnglish tutor with 7 years of training and coaching experience Hello, my name is Shannon. I am a native English speaking South African. I spent over a year working for a USA law firm. I want to be able to share my love of language and learning. I enjoy horse riding and watching movies and series with my family. The genres I typically enjoy are comedy, mystery and thrillers.\\nRead more\\nBook trial lesson\\nMessage\\nTop 3 tutors for students from Mexico\\nAna Luisa C.\\n5\\n(16)\\n',\n",
       " 'Spanish (Native), English (C1)\\nView full profile\\nLeandro P.\\n4.8\\n(43)\\n',\n",
       " 'English (C2), Spanish (Native)\\nView full profile\\nHarmlet N.\\n4.4\\n(35)\\n',\n",
       " 'English (Native)\\nView full profile\\nLindsey M.\\nEnglish\\nNewly joined\\n$\\n18\\n50-min lesson\\n5 active students\\n•\\n3 lessons\\n',\n",
       " \"\\nEnglishNative GermanIntermediate\\nTEFL Instructor - Specializing in Business and Technical English Hi all! I am available to you for a trial lesson and 1:1 English classes. We can curate the classes to you and your needs; either through Preply's curriculum, or through a personalized one. I am enthusiastic about helping you accomplish your language learning goals!\\n\\nRead more\\nBook trial lesson\\nMessage\\nVinicius P.\\nEnglish\\nNewly joined\\n$\\n15\\n50-min lesson\\n1 active student\\n\",\n",
       " \"\\nEnglishProficient PortugueseNative+3\\nCELTA & TESOL Certified Tutor with 10 years of teaching experience I am a travel enthusiast. I have lived in 6 different countries throughout my life, and I'm just getting started.\\nI enjoy playing volleyball and online games. I love writing as a hobby and wakeboarding at the weekends. On top of everything else, I'm an avid fantasy reader.\\nRead more\\nBook trial lesson\\nMessage\\nMarissa L.\\nEnglish\\nNewly joined\\n$\\n10\\n50-min lesson\\n22 active students\\n\",\n",
       " '\\nEnglishNative KoreanPre-Intermediate+2\\nQualified lawyer with experience tutoring and teaching foreign languages Hello everyone, my name is Marissa and I currently live in Trinidad but I am from the UK. I am passionate about teaching and learning new languages, having learnt Spanish and French. At the moment I am self learning Korean.\\nI am TEFL certified and have experience around one year teaching and tutoring both kids and teenagers a variety of subjects including English language and Spanish.\\nRead more\\nBook trial lesson\\nMessage\\nSuper tutor\\nGordon G.\\nEnglish\\n5\\n18\\nreviews\\n$\\n19\\n50-min lesson\\n18 active students\\n•\\n1,082 lessons\\n',\n",
       " \"\\nEnglishNative PortugueseUpper-Intermediate+1\\nPortuguese/Spanish speaker, focus on English speaking *** NEW TIMETABLE NOVEMBER 9TH 2022 - ACCEPTING NEW STUDENTS!! ***\\nHello, my name is Gordon and I'm from Ireland. I have 43 years. No wait, I don't have 43 years! I am 43 years old.\\nI have taught over 3000 hours of English classes to people that speak Portuguese since 2014.\\nRead more\\nBook trial lesson\\nMessage\\nFeatured tutors\\nFeatured\\nPuleng M.\\n$ 6 / lesson\\nNewly joined\\n\",\n",
       " 'English (Native)\\nView full profile\\nFeatured\\nRida A.\\n$ 8 / lesson\\nNewly joined\\n',\n",
       " 'English (C2), Urdu (Native)\\nView full profile\\nFeatured\\nKamila J.\\n$ 26 / lesson\\n5\\n(2)\\n',\n",
       " 'English (C2), Italian (B2), Slovak (Native), Czech (C2), Spanish (B1)\\nView full profile\\n1\\n2\\n...\\n1214\\n›']"
      ]
     },
     "execution_count": 61,
     "metadata": {},
     "output_type": "execute_result"
    }
   ],
   "source": [
    "full_list.text.split(\"Speaks:\")"
   ]
  }
 ],
 "metadata": {
  "kernelspec": {
   "display_name": "Python 3",
   "language": "python",
   "name": "python3"
  },
  "language_info": {
   "codemirror_mode": {
    "name": "ipython",
    "version": 3
   },
   "file_extension": ".py",
   "mimetype": "text/x-python",
   "name": "python",
   "nbconvert_exporter": "python",
   "pygments_lexer": "ipython3",
   "version": "3.10.9"
  },
  "orig_nbformat": 4,
  "vscode": {
   "interpreter": {
    "hash": "ad34bc9151f925664137131e0fda526755d0ec9b9989259c587c9cc933ba5125"
   }
  }
 },
 "nbformat": 4,
 "nbformat_minor": 2
}
